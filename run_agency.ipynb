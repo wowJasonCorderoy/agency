{
  "nbformat": 4,
  "nbformat_minor": 0,
  "metadata": {
    "colab": {
      "name": "run_agency.ipynb",
      "provenance": [],
      "collapsed_sections": []
    },
    "kernelspec": {
      "name": "python3",
      "display_name": "Python 3"
    }
  },
  "cells": [
    {
      "cell_type": "code",
      "metadata": {
        "id": "RF4IcQC8I8dT"
      },
      "source": [
        "# AFTER THIS SCRIPT RUNS: \n",
        "# Now copy new_cal.csv to\\\\nnorsogfas052\\Filepolling\\Bwinbprd1\\AGENCY_BUSINESS_SALES.csv so that BW can load data. If you don't do this BW won't have this new calendar you just created!!!\n",
        "# during pilot use this file instead: AGENCY_BUSINESS_SALES_inclPilotChanges.csv\n",
        "# backup the ace form by saving (a copy!!!!!!!!!) to drive - '~/Interim Solution BAU Data Updates/Ace_vkp8_data/previously_loaded/YYYYMMDD_HHMM ...'"
      ],
      "execution_count": null,
      "outputs": []
    },
    {
      "cell_type": "code",
      "metadata": {
        "id": "mj6ucSpZUz6f"
      },
      "source": [
        "import pandas as pd\n",
        "import numpy as np\n",
        "import datetime\n",
        "import re"
      ],
      "execution_count": null,
      "outputs": []
    },
    {
      "cell_type": "code",
      "metadata": {
        "id": "pULF0dTaRjM9",
        "colab": {
          "base_uri": "https://localhost:8080/"
        },
        "outputId": "f133833d-e2de-4626-9cc3-9ebb62653ddc"
      },
      "source": [
        "from google.colab import auth\n",
        "auth.authenticate_user()\n",
        "print('Authenticated')\n",
        "\n",
        "from google.colab import drive\n",
        "drive.mount('/content/drive')\n"
      ],
      "execution_count": null,
      "outputs": [
        {
          "output_type": "stream",
          "name": "stdout",
          "text": [
            "Authenticated\n",
            "Mounted at /content/drive\n"
          ]
        }
      ]
    },
    {
      "cell_type": "code",
      "metadata": {
        "id": "FG1es5YdSZVL"
      },
      "source": [
        "!cp /content/drive/My\\ Drive/Interim\\ Solution\\ BAU\\ Data\\ Updates/Ace_VPK8_data/ARace/R/ARace_Functions.R /content/ARace_Functions.R\n",
        "!cp /content/drive/My\\ Drive/Interim\\ Solution\\ BAU\\ Data\\ Updates/Ace_VPK8_data/AGENCY_BUSINESS_SALES.feather /content/AGENCY_BUSINESS_SALES.feather"
      ],
      "execution_count": null,
      "outputs": []
    },
    {
      "cell_type": "code",
      "metadata": {
        "id": "4OqpEFYbSp2N"
      },
      "source": [
        "%%bigquery --project gcp-wow-ent-im-tbl-prod valid_articles\n",
        "\n",
        "#standardSQL\n",
        "select distinct lpad(Article, 18, '0') as Article\n",
        "from `gcp-wow-ent-im-tbl-prod.adp_dm_masterdata_view.dim_article_v`"
      ],
      "execution_count": null,
      "outputs": []
    },
    {
      "cell_type": "code",
      "metadata": {
        "id": "S3H7vwalUEE7"
      },
      "source": [
        "%%bigquery --project gcp-wow-ent-im-tbl-prod valid_vendors\n",
        "\n",
        "#standardSQL\n",
        "select distinct lpad(Vendor, 10, '0') as Vendor\n",
        "from `gcp-wow-ent-im-tbl-prod.adp_dm_masterdata_view.dim_vendor_v`"
      ],
      "execution_count": null,
      "outputs": []
    },
    {
      "cell_type": "code",
      "metadata": {
        "id": "HmFh5N0aUoLz"
      },
      "source": [
        "# vendor '0000000000' is a valid vendor in BW so force it\n",
        "vend_0 = pd.DataFrame({'Vendor':['0'.zfill(10)]})\n",
        "valid_vendors = valid_vendors.append(vend_0, ignore_index = True)"
      ],
      "execution_count": null,
      "outputs": []
    },
    {
      "cell_type": "code",
      "metadata": {
        "id": "RYZjaioKVjqx"
      },
      "source": [
        "%%bigquery --project gcp-wow-ent-im-tbl-prod valid_salesorgs\n",
        "\n",
        "#standardSQL\n",
        "select distinct SalesOrganisation\n",
        "from `gcp-wow-ent-im-tbl-prod.adp_dm_masterdata_view.dim_site_v`"
      ],
      "execution_count": null,
      "outputs": []
    },
    {
      "cell_type": "code",
      "metadata": {
        "id": "ldyFGGrtafWw",
        "colab": {
          "base_uri": "https://localhost:8080/"
        },
        "outputId": "7931d373-52be-4991-e0b0-99fe57749202"
      },
      "source": [
        "#Get the 'Weekly Agency Update Data.gsheet'\n",
        "#=========================================================================================================================================================================================================================\n",
        "!pip install gspread --upgrade # Uninstall gspread-3.0.1 with 3.7.0\n",
        "import gspread\n",
        "from oauth2client.client import GoogleCredentials as GC\n",
        "GoogleSheets = gspread.authorize(GC.get_application_default())\n",
        "import gspread_dataframe \n",
        "\n",
        "## for some reason this doesn't work:\n",
        "#wb = GoogleSheets.open('/content/drive/My Drive/Interim Solution BAU Data Updates/Ace_VPK8_data/Weekly Agency Update Data')#.sheet1\n",
        "# so do this:\n",
        "wb = GoogleSheets.open_by_url('https://docs.google.com/spreadsheets/d/1L5mrV_bDvdWjOlPt07ggMgRbC0sq23EkBhorc5aAhi8/edit#gid=0')\n"
      ],
      "execution_count": null,
      "outputs": [
        {
          "output_type": "stream",
          "name": "stdout",
          "text": [
            "Requirement already satisfied: gspread in /usr/local/lib/python3.7/dist-packages (3.0.1)\n",
            "Collecting gspread\n",
            "  Downloading gspread-4.0.1-py3-none-any.whl (29 kB)\n",
            "Requirement already satisfied: google-auth>=1.12.0 in /usr/local/lib/python3.7/dist-packages (from gspread) (1.34.0)\n",
            "Requirement already satisfied: google-auth-oauthlib>=0.4.1 in /usr/local/lib/python3.7/dist-packages (from gspread) (0.4.5)\n",
            "Requirement already satisfied: six>=1.9.0 in /usr/local/lib/python3.7/dist-packages (from google-auth>=1.12.0->gspread) (1.15.0)\n",
            "Requirement already satisfied: cachetools<5.0,>=2.0.0 in /usr/local/lib/python3.7/dist-packages (from google-auth>=1.12.0->gspread) (4.2.2)\n",
            "Requirement already satisfied: rsa<5,>=3.1.4 in /usr/local/lib/python3.7/dist-packages (from google-auth>=1.12.0->gspread) (4.7.2)\n",
            "Requirement already satisfied: setuptools>=40.3.0 in /usr/local/lib/python3.7/dist-packages (from google-auth>=1.12.0->gspread) (57.4.0)\n",
            "Requirement already satisfied: pyasn1-modules>=0.2.1 in /usr/local/lib/python3.7/dist-packages (from google-auth>=1.12.0->gspread) (0.2.8)\n",
            "Requirement already satisfied: requests-oauthlib>=0.7.0 in /usr/local/lib/python3.7/dist-packages (from google-auth-oauthlib>=0.4.1->gspread) (1.3.0)\n",
            "Requirement already satisfied: pyasn1<0.5.0,>=0.4.6 in /usr/local/lib/python3.7/dist-packages (from pyasn1-modules>=0.2.1->google-auth>=1.12.0->gspread) (0.4.8)\n",
            "Requirement already satisfied: oauthlib>=3.0.0 in /usr/local/lib/python3.7/dist-packages (from requests-oauthlib>=0.7.0->google-auth-oauthlib>=0.4.1->gspread) (3.1.1)\n",
            "Requirement already satisfied: requests>=2.0.0 in /usr/local/lib/python3.7/dist-packages (from requests-oauthlib>=0.7.0->google-auth-oauthlib>=0.4.1->gspread) (2.23.0)\n",
            "Requirement already satisfied: certifi>=2017.4.17 in /usr/local/lib/python3.7/dist-packages (from requests>=2.0.0->requests-oauthlib>=0.7.0->google-auth-oauthlib>=0.4.1->gspread) (2021.5.30)\n",
            "Requirement already satisfied: chardet<4,>=3.0.2 in /usr/local/lib/python3.7/dist-packages (from requests>=2.0.0->requests-oauthlib>=0.7.0->google-auth-oauthlib>=0.4.1->gspread) (3.0.4)\n",
            "Requirement already satisfied: urllib3!=1.25.0,!=1.25.1,<1.26,>=1.21.1 in /usr/local/lib/python3.7/dist-packages (from requests>=2.0.0->requests-oauthlib>=0.7.0->google-auth-oauthlib>=0.4.1->gspread) (1.24.3)\n",
            "Requirement already satisfied: idna<3,>=2.5 in /usr/local/lib/python3.7/dist-packages (from requests>=2.0.0->requests-oauthlib>=0.7.0->google-auth-oauthlib>=0.4.1->gspread) (2.10)\n",
            "Installing collected packages: gspread\n",
            "  Attempting uninstall: gspread\n",
            "    Found existing installation: gspread 3.0.1\n",
            "    Uninstalling gspread-3.0.1:\n",
            "      Successfully uninstalled gspread-3.0.1\n",
            "Successfully installed gspread-4.0.1\n"
          ]
        }
      ]
    },
    {
      "cell_type": "code",
      "metadata": {
        "id": "XPq8AYvJdW4Q"
      },
      "source": [
        "def function_get_vkp8_data(wsName='_VKP8'):\n",
        "  mWB = wb.worksheet(wsName)\n",
        "  dat = mWB.get_all_values()\n",
        "  df = pd.DataFrame(dat, columns=['Article', 'SalesOrg', 'PL', 'Vendor', 'Valid_from'\t, 'Valid_to'\t, 'New_GP_perc'])\n",
        "  df = df.iloc[1:] # removes column header row from 1st data row\n",
        "\n",
        "  df = df[ (df.PL.isna()) | (df.PL == '')] # for vkp8 only use national prices - so PL blank\n",
        "\n",
        "  # set column types\n",
        "  def re_dtype(df, col_dtypes):\n",
        "    for k,v in col_dtypes.items():\n",
        "      if k == 'str':\n",
        "        for vv in v:\n",
        "          df[vv] = df[vv].astype(str)\n",
        "      if k == 'int':\n",
        "        for vv in v:\n",
        "          df[vv] = df[vv].astype(str).astype(int)\n",
        "      if k == 'date':\n",
        "        for vv in v:\n",
        "          df[vv] = df[vv].astype(str)\n",
        "          df = df[ (~df[vv].isna()) & (df[vv] != '')]\n",
        "          #df[vv] = pd.to_datetime(df[vv], format=\"%d/%m/%Y\") #, %H:%M:%S\")\n",
        "          #df[vv] = datetime.datetime.strptime(df[vv], \"%d/%m/%Y\").date()\n",
        "          df[vv] = [datetime.datetime.strptime(x, \"%d/%m/%Y\").date() for x in df[vv]]\n",
        "      if k == 'float':\n",
        "        for vv in v:\n",
        "          df[vv] = df[vv].astype(str).astype(float)\n",
        "    return df\n",
        "\n",
        "  mcol_dtypes = {'str': ['Article', 'SalesOrg', 'PL', 'Vendor'],\n",
        "                'date': ['Valid_from'\t, 'Valid_to'],\n",
        "                'float': ['New_GP_perc']}\n",
        "  df = re_dtype(df,mcol_dtypes)\n",
        "  df = df[['Article', 'SalesOrg', 'Vendor',  'Valid_from', 'Valid_to', 'New_GP_perc']]\n",
        "  df = df.rename(columns={\"New_GP_perc\":\"Commission_Rate\", \"Valid_from\":\"start_date\", \"Valid_to\":\"end_date\"})\n",
        "  df['Article'] = [x.zfill(18) for x in df['Article']]\n",
        "\n",
        "  #df['Vendor'] = [re.sub('\\n', '',x) for x in df['Vendor']]\n",
        "  #df['Vendor'] = [x.zfill(10) for x in df['Vendor']]\n",
        "  df['Vendor'] = ['0'.zfill(10) for x in df['Vendor']]\n",
        "\n",
        "  df['Commission_Rate'] = df['Commission_Rate']/100\n",
        "  df['Commission_Rate'] = round(df['Commission_Rate'],3)\n",
        "\n",
        "  df = df.dropna()\n",
        "\n",
        "  return df"
      ],
      "execution_count": null,
      "outputs": []
    },
    {
      "cell_type": "code",
      "metadata": {
        "id": "r9pAeGYPAgb8",
        "colab": {
          "base_uri": "https://localhost:8080/"
        },
        "outputId": "400ce301-7b51-41d5-c228-106bf64dd188"
      },
      "source": [
        "supers_vkp8_data = function_get_vkp8_data()"
      ],
      "execution_count": null,
      "outputs": [
        {
          "output_type": "stream",
          "name": "stderr",
          "text": [
            "/usr/local/lib/python3.7/dist-packages/ipykernel_launcher.py:24: SettingWithCopyWarning: \n",
            "A value is trying to be set on a copy of a slice from a DataFrame.\n",
            "Try using .loc[row_indexer,col_indexer] = value instead\n",
            "\n",
            "See the caveats in the documentation: https://pandas.pydata.org/pandas-docs/stable/user_guide/indexing.html#returning-a-view-versus-a-copy\n",
            "/usr/local/lib/python3.7/dist-packages/ipykernel_launcher.py:20: SettingWithCopyWarning: \n",
            "A value is trying to be set on a copy of a slice from a DataFrame.\n",
            "Try using .loc[row_indexer,col_indexer] = value instead\n",
            "\n",
            "See the caveats in the documentation: https://pandas.pydata.org/pandas-docs/stable/user_guide/indexing.html#returning-a-view-versus-a-copy\n"
          ]
        }
      ]
    },
    {
      "cell_type": "code",
      "metadata": {
        "id": "YeWRRAhvQsvn"
      },
      "source": [
        "def function_get_ace_data(wsName='_ACE Data SM', mso='1005'):\n",
        "  mWB = wb.worksheet(wsName)\n",
        "  dat = mWB.get_all_values()\n",
        "  df = pd.DataFrame(dat, columns=['ActionRequired', 'X0', 'Article', 'X1', 'Article_Description', 'X2', 'X3', 'X4', 'X5', 'X6', 'GTIN', 'X7', 'X8', 'X9', 'Vendor_Number', 'X10', 'X11', 'Vendor_Name', 'GST_Rate', 'Net_Cost', 'Sell_Price_Incl_GST', 'Sell_Price_Excl_GST', 'Calculated_Commission_Rate', 'Master_Commission_Rate', 'Valid_From_Date', 'Valid_To_Date'])\n",
        "\n",
        "  df = df.iloc[1:] # removes column header row from 1st data row\n",
        "\n",
        "  df = df[ (~df.Article.isna()) & (df.Article != '')] \n",
        "\n",
        "  df['SalesOrg'] = mso\n",
        "  df = df[['Article', 'SalesOrg', 'Vendor_Number',  'Valid_From_Date', 'Valid_To_Date', 'Master_Commission_Rate']]\n",
        "  df = df.rename(columns={\"Vendor_Number\":\"Vendor\",\"Master_Commission_Rate\":\"Commission_Rate\", \"Valid_From_Date\":\"start_date\", \"Valid_To_Date\":\"end_date\"})\n",
        "\n",
        "  # trim leading and trailing whitespace before padding zero's\n",
        "  df['Article'] = [x.strip() for x in df.Article]\n",
        "  df['Article'] = [x.zfill(18) for x in df['Article']]\n",
        "\n",
        "  # trim leading and trailing whitespace before padding zero's\n",
        "  df['Vendor'] = [x.strip() for x in df.Vendor]\n",
        "  df['Vendor'] = ['0'.zfill(10) for x in df['Vendor']]\n",
        "\n",
        "  for mcol in ['start_date', 'end_date']:\n",
        "    df[mcol] = [datetime.datetime.strptime(x, \"%d/%m/%Y\").date() for x in df[mcol]]\n",
        "\n",
        "  df['Commission_Rate'] = [re.sub('%', '',x) for x in df['Commission_Rate']]\n",
        "  df['Commission_Rate'] = df['Commission_Rate'].astype(str).astype(float)\n",
        "  df['Commission_Rate'] = df['Commission_Rate']/100\n",
        "  df['Commission_Rate'] = round(df['Commission_Rate'],3)\n",
        "\n",
        "  df = df.dropna()\n",
        "\n",
        "  return df\n"
      ],
      "execution_count": null,
      "outputs": []
    },
    {
      "cell_type": "code",
      "metadata": {
        "id": "sBHJkA-7YUyJ"
      },
      "source": [
        "# Removals get a commission rate of 666%: 6.66.\n",
        "supers_ace_data = function_get_ace_data(wsName='_ACE Data SM', mso='1005')\n",
        "nz_ace_data = function_get_ace_data(wsName='_ACE Data NZ', mso='2010')\n",
        "bigw_ace_data = function_get_ace_data(wsName='_ACE Data BigW', mso='1060')\n"
      ],
      "execution_count": null,
      "outputs": []
    },
    {
      "cell_type": "code",
      "metadata": {
        "colab": {
          "base_uri": "https://localhost:8080/"
        },
        "id": "UiuXDjmpa9C2",
        "outputId": "60460a44-76e3-4760-b0a3-4e5fa777bf56"
      },
      "source": [
        "def checkIn(x,y):\n",
        "  each_check = [x in y for x in x]\n",
        "  return all(each_check)\n",
        "\n",
        "\n",
        "def checkDataAccuracy(df):\n",
        "  checkVendors = checkIn(list(df['Vendor']), list(valid_vendors['Vendor']))\n",
        "  checkArticles = checkIn(list(df['Article']), list(valid_articles['Article']))\n",
        "  checkSalesOrg = checkIn(list(df['SalesOrg']), list(valid_salesorgs['SalesOrganisation']))\n",
        "\n",
        "  print('Valid Vendor check:', checkVendors)\n",
        "  print('Valid Articles check:', checkArticles)\n",
        "  print('Valid SalesOrg check:', checkSalesOrg)\n",
        "\n",
        "  return(all([checkVendors,checkArticles,checkSalesOrg]))\n",
        "\n",
        "#myDataCheck = checkDataAccuracy(all_change_request_data)\n",
        "myDataCheck = checkDataAccuracy(supers_ace_data.append(nz_ace_data).append(bigw_ace_data))\n",
        "\n",
        "# if data issue then raise error (stopping further code execution)\n",
        "if not myDataCheck:\n",
        "  raise ValueError('data values invalid.')\n",
        "\n"
      ],
      "execution_count": null,
      "outputs": [
        {
          "output_type": "stream",
          "name": "stdout",
          "text": [
            "Valid Vendor check: True\n",
            "Valid Articles check: True\n",
            "Valid SalesOrg check: True\n"
          ]
        }
      ]
    },
    {
      "cell_type": "code",
      "metadata": {
        "id": "nVMv8IZaaVpY"
      },
      "source": [
        "all_change_request_data = supers_vkp8_data \\\n",
        "                          .append(supers_ace_data) \\\n",
        "                          .append(nz_ace_data) \\\n",
        "                          .append(bigw_ace_data)"
      ],
      "execution_count": null,
      "outputs": []
    },
    {
      "cell_type": "code",
      "metadata": {
        "id": "4TRoma06l4Mf"
      },
      "source": [
        "# save to feather for R to import. This instead of %R -i all_change_request_data avoids date type data issues\n",
        "all_change_request_data.reset_index(drop=True).to_feather('all_change_request_data.feather')\n",
        "all_change_request_data.reset_index(drop=True).to_csv('all_change_request_data.csv')"
      ],
      "execution_count": null,
      "outputs": []
    },
    {
      "cell_type": "code",
      "metadata": {
        "id": "buFtTaKIqz6q",
        "colab": {
          "base_uri": "https://localhost:8080/"
        },
        "outputId": "d0806b3e-d5d4-4c43-fd88-3f72979dde87"
      },
      "source": [
        "# activate R magic\n",
        "#!pip install rpy2==3.2.2\n",
        "!pip install rpy2\n",
        "%load_ext rpy2.ipython"
      ],
      "execution_count": null,
      "outputs": [
        {
          "output_type": "stream",
          "name": "stdout",
          "text": [
            "Requirement already satisfied: rpy2 in /usr/local/lib/python3.7/dist-packages (3.4.5)\n",
            "Requirement already satisfied: pytz in /usr/local/lib/python3.7/dist-packages (from rpy2) (2018.9)\n",
            "Requirement already satisfied: cffi>=1.10.0 in /usr/local/lib/python3.7/dist-packages (from rpy2) (1.14.6)\n",
            "Requirement already satisfied: jinja2 in /usr/local/lib/python3.7/dist-packages (from rpy2) (2.11.3)\n",
            "Requirement already satisfied: tzlocal in /usr/local/lib/python3.7/dist-packages (from rpy2) (1.5.1)\n",
            "Requirement already satisfied: pycparser in /usr/local/lib/python3.7/dist-packages (from cffi>=1.10.0->rpy2) (2.20)\n",
            "Requirement already satisfied: MarkupSafe>=0.23 in /usr/local/lib/python3.7/dist-packages (from jinja2->rpy2) (2.0.1)\n"
          ]
        }
      ]
    },
    {
      "cell_type": "code",
      "metadata": {
        "id": "shAnzeRuke16",
        "colab": {
          "base_uri": "https://localhost:8080/"
        },
        "outputId": "dc4de9ed-22b6-451d-81d1-129aedef960f"
      },
      "source": [
        "%%R #-i all_change_request_data\n",
        "\n",
        "library(tidyverse)\n",
        "#if (!require(\"feather\")) install.packages(\"feather\")\n",
        "install.packages(\"feather\")\n",
        "library(feather)\n",
        "\n",
        "source(\"ARace_Functions.R\")\n",
        "#all_change_request_data <- feather::read_feather('all_change_request_data.feather')\n",
        "all_change_request_data <- read_csv(\"all_change_request_data.csv\") %>%\n",
        "  #dplyr::select(-X1) %>%\n",
        "  .[,-1] %>%\n",
        "  dplyr::mutate(SalesOrg=as.character(SalesOrg))\n",
        "\n",
        "\n",
        "print(\"importing starting cal\")\n",
        "starting_calendar <- feather::read_feather(\"AGENCY_BUSINESS_SALES.feather\") %>%\n",
        "  dplyr::mutate(start_date=as.Date(start_date, format=\"%Y%m%d\")\n",
        "                , end_date=as.Date(end_date, format=\"%Y%m%d\"))\n",
        "# starting_calendar <- read_csv(\"AGENCY_BUSINESS_SALES.csv\") %>%\n",
        "#   dplyr::select(-X1) %>%\n",
        "#   dplyr::mutate(SalesOrg=as.character(SalesOrg))\n",
        "  \n",
        "print(head(starting_calendar))\n",
        "print(head(all_change_request_data))\n",
        "\n",
        "print(str(starting_calendar))\n",
        "print(str(all_change_request_data))\n",
        "\n",
        "print(\"Making new calendar\")\n",
        "new_cal <- get_new_calendar(starting_calendar, all_change_request_data, flag_check_Commission_Rates=FALSE, flag_push_supers_data=TRUE) %>%\n",
        "  dplyr::mutate(Commission_Rate=Commission_Rate/100)\n",
        "# new_cal <- get_new_calendar(starting_calendar, all_change_request_data, flag_check_Commission_Rates=FALSE, flag_push_supers_data=TRUE) %>%\n",
        "#   dplyr::mutate(Commission_Rate=Commission_Rate)\n",
        "\n",
        "# If commission rate = 666%: 6.66 then delete record.\n",
        "new_cal <- new_cal %>%\n",
        "dplyr::filter(Commission_Rate != 6.66)\n",
        "\n",
        "saveRDS(new_cal, \"new_cal.rds\")\n",
        "feather::write_feather(new_cal, 'new_cal.feather')\n",
        "write.csv(new_cal, \"new_cal.csv\", row.names = FALSE, quote = FALSE)\n",
        "\n",
        "saveRDS(starting_calendar, \"starting_calendar.rds\")\n",
        "feather::write_feather(starting_calendar, 'starting_calendar.feather')\n",
        "write.csv(starting_calendar, \"starting_calendar.csv\", row.names = FALSE, quote = FALSE)\n",
        "\n",
        "print(\"Checking new calendar has >= n rows of starting calendar\")\n",
        "checkRows <- nrow(new_cal)-nrow(starting_calendar)\n",
        "if( checkRows < 0 ){stop(\"new calc has less records than old cal. Is this correct?\")}\n",
        "\n",
        "print(\"Checking that no changes in entries relate to article not in change request\")\n",
        "# check that no changes in entries relate to article not in change request\n",
        "new_entries <- new_cal  %>%\n",
        "  dplyr::mutate(Commission_Rate=round(Commission_Rate, 3)) %>%\n",
        "  dplyr::mutate(start_date=as.Date(start_date, format=\"%Y%m%d\")\n",
        "  , end_date=as.Date(end_date, format=\"%Y%m%d\")) %>%\n",
        "  dplyr::full_join(starting_calendar %>%\n",
        "                     dplyr::mutate(Commission_Rate=round(Commission_Rate, 3)) %>%\n",
        "                     dplyr::mutate(idx=1:nrow(starting_calendar))\n",
        "                   , by=c(\"Article\", \"SalesOrg\", \"Vendor\", \"start_date\", \"end_date\", \"Commission_Rate\")) %>%\n",
        "  dplyr::filter(is.na(idx))\n",
        "which_wrong <- which( !(new_entries$Article %in% all_change_request_data$Article) )\n",
        "if( length(which_wrong)>0 ){print(new_entries[which_wrong,]); stop(\"An articles has changed that isn't in change requests. Execute new_entries[which_wrong,] to see articles of concern.\")}\n",
        "\n",
        "saveRDS(new_entries[which_wrong,], \"newEntries_whichWrong.rds\")\n",
        "write.csv(new_entries[which_wrong,], \"newEntries_whichWrong.csv\", row.names = FALSE, quote = FALSE)\n",
        "\n",
        "saveRDS(new_entries, \"newEntries.rds\")\n",
        "write.csv(new_entries, \"newEntries.csv\", row.names = FALSE, quote = FALSE)\n",
        "\n",
        "print(\"Run successfully. WOOHOO!!\")"
      ],
      "execution_count": null,
      "outputs": [
        {
          "output_type": "stream",
          "name": "stderr",
          "text": [
            "R[write to console]: ── Attaching packages ─────────────────────────────────────── tidyverse 1.3.1 ──\n",
            "\n",
            "R[write to console]: ✔ ggplot2 3.3.5     ✔ purrr   0.3.4\n",
            "✔ tibble  3.1.3     ✔ dplyr   1.0.7\n",
            "✔ tidyr   1.1.3     ✔ stringr 1.4.0\n",
            "✔ readr   2.0.1     ✔ forcats 0.5.1\n",
            "\n",
            "R[write to console]: ── Conflicts ────────────────────────────────────────── tidyverse_conflicts() ──\n",
            "✖ dplyr::filter() masks stats::filter()\n",
            "✖ dplyr::lag()    masks stats::lag()\n",
            "\n",
            "R[write to console]: Installing package into ‘/usr/local/lib/R/site-library’\n",
            "(as ‘lib’ is unspecified)\n",
            "\n",
            "R[write to console]: trying URL 'https://cran.rstudio.com/src/contrib/feather_0.3.5.tar.gz'\n",
            "\n",
            "R[write to console]: Content type 'application/x-gzip'\n",
            "R[write to console]:  length 73812 bytes (72 KB)\n",
            "\n",
            "R[write to console]: =\n",
            "R[write to console]: =\n",
            "R[write to console]: =\n",
            "R[write to console]: =\n",
            "R[write to console]: =\n",
            "R[write to console]: =\n",
            "R[write to console]: =\n",
            "R[write to console]: =\n",
            "R[write to console]: =\n",
            "R[write to console]: =\n",
            "R[write to console]: =\n",
            "R[write to console]: =\n",
            "R[write to console]: =\n",
            "R[write to console]: =\n",
            "R[write to console]: =\n",
            "R[write to console]: =\n",
            "R[write to console]: =\n",
            "R[write to console]: =\n",
            "R[write to console]: =\n",
            "R[write to console]: =\n",
            "R[write to console]: =\n",
            "R[write to console]: =\n",
            "R[write to console]: =\n",
            "R[write to console]: =\n",
            "R[write to console]: =\n",
            "R[write to console]: =\n",
            "R[write to console]: =\n",
            "R[write to console]: =\n",
            "R[write to console]: =\n",
            "R[write to console]: =\n",
            "R[write to console]: =\n",
            "R[write to console]: =\n",
            "R[write to console]: =\n",
            "R[write to console]: =\n",
            "R[write to console]: =\n",
            "R[write to console]: =\n",
            "R[write to console]: =\n",
            "R[write to console]: =\n",
            "R[write to console]: =\n",
            "R[write to console]: =\n",
            "R[write to console]: =\n",
            "R[write to console]: =\n",
            "R[write to console]: =\n",
            "R[write to console]: =\n",
            "R[write to console]: =\n",
            "R[write to console]: =\n",
            "R[write to console]: =\n",
            "R[write to console]: =\n",
            "R[write to console]: =\n",
            "R[write to console]: =\n",
            "R[write to console]: \n",
            "\n",
            "R[write to console]: downloaded 72 KB\n",
            "\n",
            "\n",
            "R[write to console]: \n",
            "\n",
            "R[write to console]: \n",
            "R[write to console]: The downloaded source packages are in\n",
            "\t‘/tmp/RtmpVmdjWO/downloaded_packages’\n",
            "R[write to console]: \n",
            "R[write to console]: \n",
            "\n",
            "R[write to console]: New names:\n",
            "* `` -> ...1\n",
            "\n"
          ]
        },
        {
          "output_type": "stream",
          "name": "stdout",
          "text": [
            "Rows: 518 Columns: 7\n",
            "── Column specification ────────────────────────────────────────────────────────\n",
            "Delimiter: \",\"\n",
            "chr  (2): Article, Vendor\n",
            "dbl  (3): ...1, SalesOrg, Commission_Rate\n",
            "date (2): start_date, end_date\n",
            "\n",
            "ℹ Use `spec()` to retrieve the full column specification for this data.\n",
            "ℹ Specify the column types or set `show_col_types = FALSE` to quiet this message.\n",
            "[1] \"importing starting cal\"\n",
            "# A tibble: 6 × 6\n",
            "  Article            SalesOrg Vendor     start_date end_date   Commission_Rate\n",
            "  <chr>              <chr>    <chr>      <date>     <date>               <dbl>\n",
            "1 000000000000000006 1060     0000000000 2019-07-01 9999-12-31           0.15 \n",
            "2 000000000000000294 1005     0000000000 2019-01-14 2019-12-22           0.225\n",
            "3 000000000000000294 1005     0000000000 2019-12-23 2020-11-01           0.249\n",
            "4 000000000000000294 1005     0000000000 2020-11-02 2021-03-11           0.249\n",
            "5 000000000000000294 1005     0000000000 2021-03-12 2021-06-03           0.25 \n",
            "6 000000000000000294 1005     0000000000 2021-06-04 9999-12-31           0.275\n",
            "# A tibble: 6 × 6\n",
            "  Article            SalesOrg Vendor     start_date end_date   Commission_Rate\n",
            "  <chr>              <chr>    <chr>      <date>     <date>               <dbl>\n",
            "1 000000000000951348 1005     0000000000 2020-11-18 9999-12-31           0.25 \n",
            "2 000000000000948287 1005     0000000000 2017-03-14 9999-12-31           0.355\n",
            "3 000000000000948286 1005     0000000000 2021-06-04 9999-12-31           0.249\n",
            "4 000000000000944969 1005     0000000000 2018-10-27 9999-12-31           0.25 \n",
            "5 000000000000943306 1005     0000000000 2017-03-14 9999-12-31           0.28 \n",
            "6 000000000000942349 1005     0000000000 2021-04-12 9999-12-31           0.28 \n",
            "tibble [15,465 × 6] (S3: tbl_df/tbl/data.frame)\n",
            " $ Article        : chr [1:15465] \"000000000000000006\" \"000000000000000294\" \"000000000000000294\" \"000000000000000294\" ...\n",
            " $ SalesOrg       : chr [1:15465] \"1060\" \"1005\" \"1005\" \"1005\" ...\n",
            " $ Vendor         : chr [1:15465] \"0000000000\" \"0000000000\" \"0000000000\" \"0000000000\" ...\n",
            " $ start_date     : Date[1:15465], format: \"2019-07-01\" \"2019-01-14\" ...\n",
            " $ end_date       : Date[1:15465], format: \"9999-12-31\" \"2019-12-22\" ...\n",
            " $ Commission_Rate: num [1:15465] 0.15 0.225 0.249 0.249 0.25 0.275 0.225 0.249 0.249 0.25 ...\n",
            "NULL\n",
            "tibble [518 × 6] (S3: tbl_df/tbl/data.frame)\n",
            " $ Article        : chr [1:518] \"000000000000951348\" \"000000000000948287\" \"000000000000948286\" \"000000000000944969\" ...\n",
            " $ SalesOrg       : chr [1:518] \"1005\" \"1005\" \"1005\" \"1005\" ...\n",
            " $ Vendor         : chr [1:518] \"0000000000\" \"0000000000\" \"0000000000\" \"0000000000\" ...\n",
            " $ start_date     : Date[1:518], format: \"2020-11-18\" \"2017-03-14\" ...\n",
            " $ end_date       : Date[1:518], format: \"9999-12-31\" \"9999-12-31\" ...\n",
            " $ Commission_Rate: num [1:518] 0.25 0.355 0.249 0.25 0.28 0.28 0.25 0.274 0.25 0.274 ...\n",
            "NULL\n",
            "[1] \"Making new calendar\"\n"
          ]
        },
        {
          "output_type": "stream",
          "name": "stderr",
          "text": [
            "R[write to console]: 0 instances of end_date < start_date found.\n",
            "\n"
          ]
        },
        {
          "output_type": "stream",
          "name": "stdout",
          "text": [
            "NULL\n"
          ]
        },
        {
          "output_type": "stream",
          "name": "stderr",
          "text": [
            "R[write to console]: 0 instances of missing values for article, commission rate or date.\n",
            "\n"
          ]
        },
        {
          "output_type": "stream",
          "name": "stdout",
          "text": [
            "NULL\n",
            "`summarise()` has grouped output by 'Article', 'SalesOrg'. You can override using the `.groups` argument.\n",
            "`summarise()` has grouped output by 'Article', 'SalesOrg'. You can override using the `.groups` argument.\n",
            "[1] \"Checking new calendar has >= n rows of starting calendar\"\n",
            "[1] \"Checking that no changes in entries relate to article not in change request\"\n",
            "[1] \"Run successfully. WOOHOO!!\"\n"
          ]
        }
      ]
    },
    {
      "cell_type": "markdown",
      "metadata": {
        "id": "Y5u_Pa4Y3Xzg"
      },
      "source": [
        "### pilot articles (set to_date as 15/9/2021)\n",
        "Put this here to ensure no above code leads to incorrect 'end_date' for pilot vendors articles.\n",
        "\n",
        "emails from Jacinta Rodrick:\n",
        "\"\n",
        "Saturday 11/9 will be a technical go live, where we will put in the code and not switch it on,\n",
        "Thursday 16/9 will be the business go live. We will be end dating those pilot agency articles with the 15/9 and the new solution will be effective from the 16/9.\n",
        "\"\n",
        "\n",
        "list of vendors in this gsheet:\n",
        "https://docs.google.com/spreadsheets/d/1gudE1F4-j7GN1ehj2EIr1q8GNnvSxkyiGPF7ZI01y0E/edit#gid=958548641"
      ]
    },
    {
      "cell_type": "code",
      "metadata": {
        "id": "jzEsnOHv3mH3"
      },
      "source": [
        "%%bigquery --project gcp-wow-ent-im-tbl-prod pilot_articles\n",
        "\n",
        "#standardSQL\n",
        "SELECT distinct lpad(Article, 18, '0') as pilot_articles, '20210915' as pilot_end_date\n",
        "from `gcp-wow-ent-im-tbl-prod.adp_dm_masterdata_view.dim_article_vendor_purchaseorg_site_v`\n",
        "where lpad(Vendor, 10, '0') in (\n",
        "'0067546001',\n",
        "'0067546057',\n",
        "'0000669010',\n",
        "'0074994001',\n",
        "'0000021530',\n",
        "'0000021511',\n",
        "'0001029001',\n",
        "'0001647001',\n",
        "'0000669010',\n",
        "'0083152001',\n",
        "'0002802001',\n",
        "'0083106001',\n",
        "'0074994001'\n",
        ")\n"
      ],
      "execution_count": null,
      "outputs": []
    },
    {
      "cell_type": "code",
      "metadata": {
        "colab": {
          "base_uri": "https://localhost:8080/"
        },
        "id": "3ru_22oD5OTC",
        "outputId": "45cf0820-34e0-478c-9df8-cd6d0bc54549"
      },
      "source": [
        "# purpose here is to take new_cal (which used to be our AGENCY_BUSINESS_SALES.csv polling file)\n",
        "# change end dates for pilot articles\n",
        "# then that csv is our new AGENCY_BUSINESS_SALES.csv\n",
        "# but still make sure we save all the old and NEW files to drive in a way where we can still post all changes as if pilot wan't on week to week in a separate file and then only correct these in this step.\n",
        "# so that if pilot is called off we still have an up to date file to refer to. Hence why we AREN't changing any of the old process.\n",
        "new_cal_prePilotChanges = pd.read_csv(\"new_cal.csv\", dtype={'Article':'string','SalesOrg':'string','Vendor':'string','start_date':'string','end_date':'string'})\n",
        "print(new_cal_prePilotChanges.head())\n",
        "# # commission rate was coming through as 0.0015 instead of 0.15 so just *100 and round 3.\n",
        "# new_cal_prePilotChanges['Commission_Rate']=round(new_cal_prePilotChanges['Commission_Rate']*100,3)\n",
        "new_cal_prePilotChanges['Commission_Rate']=round(new_cal_prePilotChanges['Commission_Rate'],3)\n",
        "print(new_cal_prePilotChanges.head())\n",
        "new_cal_prePilotChanges.reset_index(drop=True).to_csv('new_cal_prePilotChanges.csv', index=False)"
      ],
      "execution_count": null,
      "outputs": [
        {
          "output_type": "stream",
          "name": "stdout",
          "text": [
            "              Article SalesOrg  ...  end_date Commission_Rate\n",
            "0  000000000000000006     1060  ...  99991231           0.150\n",
            "1  000000000000000294     1005  ...  20191222           0.225\n",
            "2  000000000000000294     1005  ...  20201101           0.249\n",
            "3  000000000000000294     1005  ...  20210311           0.249\n",
            "4  000000000000000294     1005  ...  20210603           0.250\n",
            "\n",
            "[5 rows x 6 columns]\n",
            "              Article SalesOrg  ...  end_date Commission_Rate\n",
            "0  000000000000000006     1060  ...  99991231           0.150\n",
            "1  000000000000000294     1005  ...  20191222           0.225\n",
            "2  000000000000000294     1005  ...  20201101           0.249\n",
            "3  000000000000000294     1005  ...  20210311           0.249\n",
            "4  000000000000000294     1005  ...  20210603           0.250\n",
            "\n",
            "[5 rows x 6 columns]\n"
          ]
        }
      ]
    },
    {
      "cell_type": "code",
      "metadata": {
        "id": "N39BpkgO95z7"
      },
      "source": [
        "new_cal_inclPilotChanges = new_cal_prePilotChanges.merge(pilot_articles, how='left',left_on='Article', right_on='pilot_articles')\n",
        "# now change end_date if pilot requires that\n",
        "# if pilot article and end_date > pilot_end_date then pilot_end_date else end_date\n",
        "new_cal_inclPilotChanges['end_date'] = np.where( (new_cal_inclPilotChanges.pilot_end_date.isna()) | (new_cal_inclPilotChanges.end_date < new_cal_inclPilotChanges.pilot_end_date), \n",
        "                                                new_cal_inclPilotChanges.end_date, \n",
        "                                                new_cal_inclPilotChanges.pilot_end_date)\n",
        "# now drop unecessary columns\n",
        "new_cal_inclPilotChanges.drop(['pilot_end_date','pilot_articles'], axis=1, inplace=True)\n",
        "new_cal_inclPilotChanges.to_csv('new_cal_inclPilotChanges.csv', index=False)"
      ],
      "execution_count": null,
      "outputs": []
    },
    {
      "cell_type": "code",
      "metadata": {
        "id": "b-YW5ejptzPU",
        "colab": {
          "base_uri": "https://localhost:8080/"
        },
        "outputId": "6ca72c44-3472-4ec0-8391-e480a726e313"
      },
      "source": [
        "%%bash\n",
        "d=$(TZ=Australia/Sydney date +%Y%m%d_%H%M%S)\n",
        "mkdir /content/drive/My\\ Drive/Interim\\ Solution\\ BAU\\ Data\\ Updates/Ace_VPK8_data/Commission_Calendars/$d\n",
        "cp /content/new_cal.csv /content/drive/My\\ Drive/Interim\\ Solution\\ BAU\\ Data\\ Updates/Ace_VPK8_data/Commission_Calendars/$d/AGENCY_BUSINESS_SALES.csv\n",
        "cp /content/new_cal.feather /content/drive/My\\ Drive/Interim\\ Solution\\ BAU\\ Data\\ Updates/Ace_VPK8_data/Commission_Calendars/$d/AGENCY_BUSINESS_SALES.feather\n",
        "\n",
        "cp /content/starting_calendar.csv /content/drive/My\\ Drive/Interim\\ Solution\\ BAU\\ Data\\ Updates/Ace_VPK8_data/Commission_Calendars/$d/starting_calendar.csv\n",
        "cp /content/starting_calendar.feather /content/drive/My\\ Drive/Interim\\ Solution\\ BAU\\ Data\\ Updates/Ace_VPK8_data/Commission_Calendars/$d/starting_calendar.feather\n",
        "\n",
        "cp /content/all_change_request_data.csv /content/drive/My\\ Drive/Interim\\ Solution\\ BAU\\ Data\\ Updates/Ace_VPK8_data/Commission_Calendars/$d/change_requests.csv\n",
        "cp /content/all_change_request_data.feather /content/drive/My\\ Drive/Interim\\ Solution\\ BAU\\ Data\\ Updates/Ace_VPK8_data/Commission_Calendars/$d/change_requests.feather\n",
        "\n",
        "cp /content/new_cal.csv /content/drive/My\\ Drive/Interim\\ Solution\\ BAU\\ Data\\ Updates/Ace_VPK8_data/AGENCY_BUSINESS_SALES.csv\n",
        "cp /content/new_cal.feather /content/drive/My\\ Drive/Interim\\ Solution\\ BAU\\ Data\\ Updates/Ace_VPK8_data/AGENCY_BUSINESS_SALES.feather\n",
        "\n",
        "pip freeze > /content/drive/My\\ Drive/Interim\\ Solution\\ BAU\\ Data\\ Updates/Ace_VPK8_data/Commission_Calendars/$d/requirements.txt\n",
        "cp /content/drive/My\\ Drive/Interim\\ Solution\\ BAU\\ Data\\ Updates/Ace_VPK8_data/run_agency.ipynb /content/drive/My\\ Drive/Interim\\ Solution\\ BAU\\ Data\\ Updates/Ace_VPK8_data/Commission_Calendars/$d/run_agency.ipynb\n",
        "\n",
        "# now for the pilot files...\n",
        "cp /content/new_cal_inclPilotChanges.csv /content/drive/My\\ Drive/Interim\\ Solution\\ BAU\\ Data\\ Updates/Ace_VPK8_data/Commission_Calendars/$d/AGENCY_BUSINESS_SALES_inclPilotChanges.csv\n",
        "cp /content/new_cal_inclPilotChanges.csv /content/drive/My\\ Drive/Interim\\ Solution\\ BAU\\ Data\\ Updates/Ace_VPK8_data/AGENCY_BUSINESS_SALES_inclPilotChanges.csv\n",
        "\n",
        "echo \"Folder '$d' created and files saved.\""
      ],
      "execution_count": null,
      "outputs": [
        {
          "output_type": "stream",
          "name": "stdout",
          "text": [
            "Folder '20210909_110705' created and files saved.\n"
          ]
        }
      ]
    }
  ]
}